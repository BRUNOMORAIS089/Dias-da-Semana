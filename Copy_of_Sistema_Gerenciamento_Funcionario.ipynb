{
  "nbformat": 4,
  "nbformat_minor": 0,
  "metadata": {
    "colab": {
      "provenance": [],
      "include_colab_link": true
    },
    "kernelspec": {
      "name": "python3",
      "display_name": "Python 3"
    },
    "language_info": {
      "name": "python"
    }
  },
  "cells": [
    {
      "cell_type": "markdown",
      "metadata": {
        "id": "view-in-github",
        "colab_type": "text"
      },
      "source": [
        "<a href=\"https://colab.research.google.com/github/BRUNOMORAIS089/Dias-da-Semana/blob/main/Copy_of_Sistema_Gerenciamento_Funcionario.ipynb\" target=\"_parent\"><img src=\"https://colab.research.google.com/assets/colab-badge.svg\" alt=\"Open In Colab\"/></a>"
      ]
    },
    {
      "cell_type": "code",
      "source": [
        "def incluir_funcionario():\n",
        "    nome = input(\"Digite seu Nome:\" )\n",
        "    cargo = input(\"Digite seu Cargo: \")\n",
        "    salario = int(input(\"Digite deu Salário: \"))\n",
        "    cidade = input(\"Digite sua Cidade: \")\n",
        "    estado = input(\"Digite seu Estado: \")\n",
        "    idade = float(input(\"Digite sua Idade: \"))\n",
        "    e_mail = input(\"Digite seu E-mail: \")\n",
        "\n",
        "    funcionario = {\n",
        "        \"nome\": nome,\n",
        "        \"cargoo\": cargo,\n",
        "        \"salario\": salario,\n",
        "        \"cidade\": cidade,\n",
        "        \"estado\": estado,\n",
        "        \"idade\": idade,\n",
        "        \"e_mail\": e_mail,\n",
        "    }\n",
        "\n",
        "    funcionarios.append(funcionario)\n",
        "\n",
        "def consultar_funcionario(nome):\n",
        "    for funcionario in funcionarios:\n",
        "        if funcionario[\"name\"] == nome:\n",
        "            return funcionario\n",
        "    return None\n",
        "\n",
        "def listar_funcionarios():\n",
        "    for funcionario in funcionarios:\n",
        "        print(\"funiconario\")\n",
        "\n",
        "def deletar_funcionario(nome):\n",
        "    for i in range(len(funcionarios)):\n",
        "        if funcionarios [i] [\"nome\"] == nome:\n",
        "            del funcionario[i]\n",
        "            return\n",
        "    return None\n",
        "\n",
        "funcionarios = {}\n",
        "\n",
        "print('****** EMPRESA PROJETO PYTHON   ******\\n')\n",
        "\n",
        "while True:\n",
        "    print(\"1. Incluir funcionário\")\n",
        "    print(\"2. Consultar funcionário\")\n",
        "    print(\"3. Listar funcionários\")\n",
        "    print(\"4. Deletar funcionário\")\n",
        "    print(\"0. Sair\")\n",
        "\n",
        "    escolha = input(\"Escolha uma opção: \")\n",
        "\n",
        "    if escolha == \"1\":\n",
        "        incluir_funcionario()\n",
        "    elif escolha == 2:\n",
        "        nome = input(\"Nome do funcionário: \")\n",
        "        funcionario = consultar_funcionario(nome)\n",
        "        if funcionario is not None:\n",
        "            print(funcionario)\n",
        "        else:\n",
        "            print(\"Funcionário não encontrado.\")\n",
        "    elif escolha == \"3\":\n",
        "        funcionario = listar_funcionarios(nome)\n",
        "    elif escolha == 4:\n",
        "        nome = input(\"Nome do funcionário: \")\n",
        "        deletar_funcionario(nome)\n",
        "        print(\"Funcionário removido com sucesso.\")\n",
        "    elif escolha == \"0\":\n",
        "        break"
      ],
      "metadata": {
        "id": "dNF7B-yagW-5",
        "colab": {
          "base_uri": "https://localhost:8080/"
        },
        "outputId": "1badf6e6-98d4-450d-dae0-8b0f344eb07f"
      },
      "execution_count": null,
      "outputs": [
        {
          "metadata": {
            "tags": null
          },
          "name": "stdout",
          "output_type": "stream",
          "text": [
            "****** EMPRESA PROJETO PYTHON   ******\n",
            "\n",
            "1. Incluir funcionário\n",
            "2. Consultar funcionário\n",
            "3. Listar funcionários\n",
            "4. Deletar funcionário\n",
            "0. Sair\n"
          ]
        }
      ]
    }
  ]
}